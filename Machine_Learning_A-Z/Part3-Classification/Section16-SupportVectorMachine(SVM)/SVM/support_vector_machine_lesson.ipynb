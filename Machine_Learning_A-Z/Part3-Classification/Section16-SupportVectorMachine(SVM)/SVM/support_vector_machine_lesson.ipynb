{
  "nbformat": 4,
  "nbformat_minor": 0,
  "metadata": {
    "kernelspec": {
      "display_name": "Python 3",
      "language": "python",
      "name": "python3"
    },
    "language_info": {
      "codemirror_mode": {
        "name": "ipython",
        "version": 3
      },
      "file_extension": ".py",
      "mimetype": "text/x-python",
      "name": "python",
      "nbconvert_exporter": "python",
      "pygments_lexer": "ipython3",
      "version": "3.6.0"
    },
    "colab": {
      "name": "support_vector_machine_lesson.ipynb",
      "version": "0.3.2",
      "provenance": []
    }
  },
  "cells": [
    {
      "cell_type": "markdown",
      "metadata": {
        "id": "ppuN5k5tPTYe",
        "colab_type": "text"
      },
      "source": [
        "# The Math of Intelligence (Week 1) - Support Vector Machine Classification\n",
        "\n",
        "\n",
        "## What will we do?\n",
        "\n",
        "We will build a Support Vector Machine that will find the optimal hyperplane that maximizes the margin between two toy data classes using gradient descent.  \n",
        "\n",
        "![alt text](http://opticalengineering.spiedigitallibrary.org/data/journals/optice/24850/oe_52_2_027003_f005.png \"Logo Title Text 1\")\n",
        "\n",
        "\n",
        "## What are some use cases for SVMs?\n",
        "\n",
        "-Classification, regression (time series prediction, etc) , outlier detection, clustering\n",
        "\n",
        "## Other Examples\n",
        "\n",
        "- Learning to use Scikit-learn's SVM function to classify images https://github.com/ksopyla/svm_mnist_digit_classification\n",
        "- Pulse classification, more useful dataset \n",
        "https://github.com/akasantony/pulse-classification-svm\n",
        "\n",
        "## How does an SVM compare to other ML algorithms?\n",
        "\n",
        "![alt text](https://image.slidesharecdn.com/mscpresentation-140722065852-phpapp01/95/msc-presentation-bioinformatics-7-638.jpg?cb=1406012610 \"Logo Title Text 1\")\n",
        "\n",
        "- As a rule of thumb, SVMs are great for relatively small data sets with fewer outliers. \n",
        "- Other algorithms (Random forests, deep neural networks, etc.) require more data but almost always come up with very robust models.\n",
        "- The decision of which classifier to use depends on your dataset and the general complexity of the problem.\n",
        "- \"Premature optimization is the root of all evil (or at least most of it) in programming.\" - Donald Knuth, CS Professor (Turing award speech 1974)  \n",
        "\n",
        "\n",
        "## What is a Support Vector Machine?\n",
        "\n",
        "It's a supervised machine learning algorithm which can be used for both classification or regression problems. But it's usually used for classification. Given 2 or more labeled classes of data, it acts as a discriminative classifier, formally defined by an optimal hyperplane that seperates all the classes. New examples that are then mapped into that same space can then be categorized based on on which side of the gap they fall.\n",
        "\n",
        "## What are Support Vectors?\n",
        "\n",
        "![alt text](https://www.dtreg.com/uploaded/pageimg/SvmMargin2.jpg \"Logo Title Text 1\")\n",
        " \n",
        "Support vectors are the data points nearest to the hyperplane, the points of a data set that, if removed, would alter the position of the dividing hyperplane. Because of this, they can be considered the critical elements of a data set, they are what help us build our SVM. \n",
        "\n",
        "## Whats a hyperplane?\n",
        "\n",
        "![alt text](http://slideplayer.com/slide/1579281/5/images/32/Hyperplanes+as+decision+surfaces.jpg \"Logo Title Text 1\")\n",
        "\n",
        "Geometry tells us that a hyperplane is a subspace of one dimension less than its ambient space. For instance, a hyperplane of an n-dimensional space is a flat subset with dimension n − 1. By its nature, it separates the space into two half spaces.\n",
        "\n",
        "## Linear vs nonlinear classification?\n",
        "\n",
        "Sometimes our data is linearly seperable. That means for N classes with M features, we can learn a mapping that is a linear combination. (like y = mx + b). Or even a multidimensional hyperplane (y = x + z + b + q). No matter how many dimensions/features a set of classes have, we can represent the mapping using a linear function.\n",
        "\n",
        "But sometimes its not. Like if there was a quadratic mapping. Luckily for us SVMs can can efficiently perform a non-linear classification using what is called the kernel trick. I'll talk about that lter on in the course. \n",
        "\n",
        "![alt text](https://media.licdn.com/mpr/mpr/AAEAAQAAAAAAAAuSAAAAJDlhYzcwMzhlLTA0MjYtNDEyYS1hMWM4LTE3Zjk5NDlhNzVkMQ.png \"Logo Title Text 1\")\n",
        "\n",
        "Alright let's get to building!"
      ]
    },
    {
      "cell_type": "code",
      "metadata": {
        "id": "C-dQFNOlPTYh",
        "colab_type": "code",
        "colab": {
          "base_uri": "https://localhost:8080/",
          "height": 286
        },
        "outputId": "3e461cf4-7403-44fb-99fb-f2cfe28bd733"
      },
      "source": [
        "#To help us perform math operations\n",
        "import numpy as np\n",
        "#to plot our data and model visually\n",
        "from matplotlib import pyplot as plt\n",
        "%matplotlib inline\n",
        "\n",
        "#Step 1 - Define our data\n",
        "\n",
        "#Input data - Of the form [X value, Y value, Bias term]\n",
        "X = np.array([\n",
        "    [-2,4,-1],\n",
        "    [4,1,-1],\n",
        "    [1, 6, -1],\n",
        "    [2, 4, -1],\n",
        "    [6, 2, -1],\n",
        "])\n",
        "\n",
        "#Associated output labels - First 2 examples are labeled '-1' and last 3 are labeled '+1'\n",
        "y = np.array([-1,-1,1,1,1])\n",
        "\n",
        "#lets plot these examples on a 2D graph!\n",
        "#for each example\n",
        "for d, sample in enumerate(X):\n",
        "    # Plot the negative samples (the first 2)\n",
        "    if d < 2:\n",
        "        plt.scatter(sample[0], sample[1], s=120, marker='_', linewidths=2)\n",
        "    # Plot the positive samples (the last 3)\n",
        "    else:\n",
        "        plt.scatter(sample[0], sample[1], s=120, marker='+', linewidths=2)\n",
        "\n",
        "# Print a possible hyperplane, that is seperating the two classes.\n",
        "#we'll two points and draw the line between them (naive guess)\n",
        "plt.plot([-2,6],[6,0.5])"
      ],
      "execution_count": 1,
      "outputs": [
        {
          "output_type": "execute_result",
          "data": {
            "text/plain": [
              "[<matplotlib.lines.Line2D at 0x7f3c110e1da0>]"
            ]
          },
          "metadata": {
            "tags": []
          },
          "execution_count": 1
        },
        {
          "output_type": "display_data",
          "data": {
            "image/png": "[encoded data removed]",
            "text/plain": [
              "<Figure size 432x288 with 1 Axes>"
            ]
          },
          "metadata": {
            "tags": []
          }
        }
      ]
    },
    {
      "cell_type": "markdown",
      "metadata": {
        "id": "xZAVZ0ANPTYn",
        "colab_type": "text"
      },
      "source": [
        "## Let's define our loss function (what to minimize) and our objective function (what to optimize)\n",
        "\n",
        "#### Loss function\n",
        "\n",
        "We'll use the Hinge loss. This is a loss function used for training classifiers. The hinge loss is used for \"maximum-margin\" classification, most notably for support vector machines (SVMs).\n",
        "\n",
        "![alt text](http://i.imgur.com/OzCwzyN.png \"Logo Title Text 1\")\n",
        "\n",
        "\n",
        "c is the loss function, x the sample, y is the true label, f(x) the predicted label.\n",
        "\n",
        "![alt text](http://i.imgur.com/FZ7JcG3.png \"Logo Title Text 1\")\n",
        "\n",
        " \n",
        "#### Objective Function\n",
        "\n",
        "![alt text](http://i.imgur.com/I5NNu44.png \"Logo Title Text 1\")\n",
        "\n",
        "As you can see, our objective of a SVM consists of two terms. The first term is a regularizer, the heart of the SVM, the second term the loss. The regularizer balances between margin maximization and loss. We want to find the decision surface that is maximally far away from any data points.\n",
        "\n",
        "How do we minimize our loss/optimize for our objective (i.e learn)?\n",
        "\n",
        "We have to derive our objective function to get the gradients! Gradient descent ftw.  As we have two terms, we will derive them seperately using the sum rule in differentiation.\n",
        "\n",
        "\n",
        "![alt text](http://i.imgur.com/6uK3BnH.png \"Logo Title Text 1\")\n",
        "\n",
        "This means, if we have a misclassified sample, we update the weight vector w using the gradients of both terms, else if classified correctly,we just update w by the gradient of the regularizer.\n",
        "\n",
        "\n",
        "\n",
        "Misclassification condition \n",
        "\n",
        "![alt text](http://i.imgur.com/g9QLAyn.png \"Logo Title Text 1\")\n",
        "\n",
        "Update rule for our weights (misclassified)\n",
        "\n",
        "![alt text](http://i.imgur.com/rkdPpTZ.png \"Logo Title Text 1\")\n",
        "\n",
        "including the learning rate η and the regularizer λ\n",
        "The learning rate is the length of the steps the algorithm makes down the gradient on the error curve.\n",
        "- Learning rate too high? The algorithm might overshoot the optimal point.\n",
        "- Learning rate too low? Could take too long to converge. Or never converge.\n",
        "\n",
        "The regularizer controls the trade off between the achieving a low training error and a low testing error that is the ability to generalize your classifier to unseen data. As a regulizing parameter we choose 1/epochs, so this parameter will decrease, as the number of epochs increases.\n",
        "- Regularizer too high? overfit (large testing error) \n",
        "- Regularizer too low? underfit (large training error) \n",
        "\n",
        "Update rule for our weights (correctly classified)\n",
        "\n",
        "![alt text](http://i.imgur.com/xTKbvZ6.png \"Logo Title Text 1\")\n"
      ]
    },
    {
      "cell_type": "code",
      "metadata": {
        "id": "8TwNpRT5PTYo",
        "colab_type": "code",
        "colab": {}
      },
      "source": [
        "#lets perform stochastic gradient descent to learn the seperating hyperplane between both classes\n",
        "\n",
        "def svm_sgd_plot(X, Y):\n",
        "    #Initialize our SVMs weight vector with zeros (3 values)\n",
        "    w = np.zeros(len(X[0]))\n",
        "    #The learning rate\n",
        "    eta = 1\n",
        "    #how many iterations to train for\n",
        "    epochs = 100000\n",
        "    #store misclassifications so we can plot how they change over time\n",
        "    errors = []\n",
        "\n",
        "    #training part, gradient descent part\n",
        "    for epoch in range(1,epochs):\n",
        "        error = 0\n",
        "        for i, x in enumerate(X):\n",
        "            #misclassification\n",
        "            if (Y[i]*np.dot(X[i], w)) < 1:\n",
        "                #misclassified update for ours weights\n",
        "                w = w + eta * ( (X[i] * Y[i]) + (-2  *(1/epoch)* w) )\n",
        "                error = 1\n",
        "            else:\n",
        "                #correct classification, update our weights\n",
        "                w = w + eta * (-2  *(1/epoch)* w)\n",
        "        errors.append(error)\n",
        "        \n",
        "\n",
        "    #lets plot the rate of classification errors during training for our SVM\n",
        "    plt.plot(errors, '|')\n",
        "    plt.ylim(0.5,1.5)\n",
        "    plt.axes().set_yticklabels([])\n",
        "    plt.xlabel('Epoch')\n",
        "    plt.ylabel('Misclassified')\n",
        "    plt.show()\n",
        "    \n",
        "    return w"
      ],
      "execution_count": 0,
      "outputs": []
    },
    {
      "cell_type": "code",
      "metadata": {
        "id": "H9IUA_HIPTY0",
        "colab_type": "code",
        "colab": {
          "base_uri": "https://localhost:8080/",
          "height": 356
        },
        "outputId": "9074e2cf-d1e1-4d7b-9b56-2822f81d2d77"
      },
      "source": [
        "w = svm_sgd_plot(X,y)\n",
        "#they decrease over time! Our SVM is learning the optimal hyperplane"
      ],
      "execution_count": 3,
      "outputs": [
        {
          "output_type": "stream",
          "text": [
            "/usr/local/lib/python3.6/dist-packages/matplotlib/figure.py:98: MatplotlibDeprecationWarning: \n",
            "Adding an axes using the same arguments as a previous axes currently reuses the earlier instance.  In a future version, a new instance will always be created and returned.  Meanwhile, this warning can be suppressed, and the future behavior ensured, by passing a unique label to each axes instance.\n",
            "  \"Adding an axes using the same arguments as a previous axes \"\n"
          ],
          "name": "stderr"
        },
        {
          "output_type": "display_data",
          "data": {
            "image/png": "[encoded data removed]",
            "text/plain": [
              "<Figure size 432x288 with 1 Axes>"
            ]
          },
          "metadata": {
            "tags": []
          }
        }
      ]
    },
    {
      "cell_type": "code",
      "metadata": {
        "id": "15u3f8oNPTY4",
        "colab_type": "code",
        "colab": {
          "base_uri": "https://localhost:8080/",
          "height": 286
        },
        "outputId": "762525f4-bb69-47fe-9bb9-c5de2764985c"
      },
      "source": [
        "for d, sample in enumerate(X):\n",
        "    # Plot the negative samples\n",
        "    if d < 2:\n",
        "        plt.scatter(sample[0], sample[1], s=120, marker='_', linewidths=2)\n",
        "    # Plot the positive samples\n",
        "    else:\n",
        "        plt.scatter(sample[0], sample[1], s=120, marker='+', linewidths=2)\n",
        "\n",
        "# Add our test samples\n",
        "plt.scatter(2,2, s=120, marker='_', linewidths=2, color='yellow')\n",
        "plt.scatter(4,3, s=120, marker='+', linewidths=2, color='blue')\n",
        "\n",
        "# Print the hyperplane calculated by svm_sgd()\n",
        "x2=[w[0],w[1],-w[1],w[0]]\n",
        "x3=[w[0],w[1],w[1],-w[0]]\n",
        "\n",
        "x2x3 =np.array([x2,x3])\n",
        "X,Y,U,V = zip(*x2x3)\n",
        "ax = plt.gca()\n",
        "ax.quiver(X,Y,U,V,scale=1, color='blue')"
      ],
      "execution_count": 4,
      "outputs": [
        {
          "output_type": "execute_result",
          "data": {
            "text/plain": [
              "<matplotlib.quiver.Quiver at 0x7f3c0deafbe0>"
            ]
          },
          "metadata": {
            "tags": []
          },
          "execution_count": 4
        },
        {
          "output_type": "display_data",
          "data": {
            "image/png": "[encoded data removed]",
            "text/plain": [
              "<Figure size 432x288 with 1 Axes>"
            ]
          },
          "metadata": {
            "tags": []
          }
        }
      ]
    }
  ]
}