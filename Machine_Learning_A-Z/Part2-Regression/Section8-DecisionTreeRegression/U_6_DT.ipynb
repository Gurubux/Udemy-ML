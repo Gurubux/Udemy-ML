{
  "nbformat": 4,
  "nbformat_minor": 0,
  "metadata": {
    "colab": {
      "name": "U-6-DT.ipynb",
      "version": "0.3.2",
      "provenance": [],
      "collapsed_sections": []
    },
    "kernelspec": {
      "name": "python3",
      "display_name": "Python 3"
    }
  },
  "cells": [
    {
      "cell_type": "code",
      "metadata": {
        "id": "1l754Y1kFlMH",
        "colab_type": "code",
        "colab": {
          "base_uri": "https://localhost:8080/",
          "height": 363
        },
        "outputId": "5010ae7e-5169-4d73-c669-606581ff9c3f"
      },
      "source": [
        "# Decision Tree Regression\n",
        "\n",
        "# Importing the libraries\n",
        "import numpy as np\n",
        "import matplotlib.pyplot as plt\n",
        "import pandas as pd\n",
        "\n",
        "# Importing the dataset\n",
        "dataset = pd.read_csv('https://raw.githubusercontent.com/Gurubux/Udemy-ML/master/Machine_Learning_A-Z/Part2-Regression/Section6-Polynomial_Regression/Polynomial_Regression/Position_Salaries.csv')\n",
        "X = dataset.iloc[:, 1:2].values\n",
        "y = dataset.iloc[:, 2].values\n",
        "\n",
        "# Splitting the dataset into the Training set and Test set\n",
        "\"\"\"from sklearn.cross_validation import train_test_split\n",
        "X_train, X_test, y_train, y_test = train_test_split(X, y, test_size = 0.2, random_state = 0)\"\"\"\n",
        "\n",
        "# Feature Scaling\n",
        "\"\"\"from sklearn.preprocessing import StandardScaler\n",
        "sc_X = StandardScaler()\n",
        "X_train = sc_X.fit_transform(X_train)\n",
        "X_test = sc_X.transform(X_test)\n",
        "sc_y = StandardScaler()\n",
        "y_train = sc_y.fit_transform(y_train)\"\"\"\n",
        "\n",
        "# Fitting Decision Tree Regression to the dataset\n",
        "#from sklearn.tree import DecisionTreeClassifier # DecisionTreeClassifier(criterion=\"gini\", splitter=\"best\", max_depth=None, min_samples_split=2, min_samples_leaf=1, min_weight_fraction_leaf=0., max_features=None, random_state=None, max_leaf_nodes=None, min_impurity_decrease=0., min_impurity_split=None, class_weight=None, presort=False)\n",
        "from sklearn.tree import DecisionTreeRegressor #  DecisionTreeRegressor(self, criterion=\"mse\", splitter=\"best\", max_depth=None, min_samples_split=2, min_samples_leaf=1, min_weight_fraction_leaf=0., max_features=None, random_state=None, max_leaf_nodes=None, min_impurity_decrease=0., min_impurity_split=None, presort=False)\n",
        "regressor = DecisionTreeRegressor(random_state = 0)\n",
        "regressor.fit(X, y)\n",
        "\n",
        "# Predicting a new result\n",
        "y_pred_ = regressor.predict(X)\n",
        "\n",
        "y_pred = regressor.predict([[6.5]])\n",
        "\n",
        "# Visualising the Decision Tree Regression results (higher resolution)\n",
        "X_grid = np.arange(min(X), max(X), 0.01)\n",
        "X_grid = X_grid.reshape((len(X_grid), 1))\n",
        "plt.scatter(X, y, color = 'red')\n",
        "plt.plot(X_grid, regressor.predict(X_grid), color = 'blue')\n",
        "plt.title('Truth or Bluff (Decision Tree Regression)')\n",
        "plt.xlabel('Position level')\n",
        "plt.ylabel('Salary')\n",
        "plt.show()\n",
        "\n",
        "\n",
        "from sklearn.metrics import mean_squared_error,r2_score,mean_absolute_error\n",
        "print(\"Decision Tree Regression MAE -> \",mean_absolute_error(y,y_pred_))\n",
        "print(\"Decision Tree Regression MSE -> \",mean_squared_error(y,y_pred_))\n",
        "print(\"Decision Tree Regression r2_score -> \",r2_score(y,y_pred_))\n",
        "\n",
        "print(\"y_pred 6.5 - \",y_pred)"
      ],
      "execution_count": 4,
      "outputs": [
        {
          "output_type": "display_data",
          "data": {
            "image/png": "[encoded data removed]",
            "text/plain": [
              "<Figure size 432x288 with 1 Axes>"
            ]
          },
          "metadata": {
            "tags": []
          }
        },
        {
          "output_type": "stream",
          "text": [
            "Decision Tree Regression MAE ->  0.0\n",
            "Decision Tree Regression MSE ->  0.0\n",
            "Decision Tree Regression r2_score ->  1.0\n",
            "y_pred 6.5 -  [150000.]\n"
          ],
          "name": "stdout"
        }
      ]
    }
  ]
}